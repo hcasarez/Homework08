{
 "cells": [
  {
   "cell_type": "markdown",
   "metadata": {},
   "source": [
    "# Homework 8: Magnetization, Energy in the Ising Model\n",
    "\n",
    "Physics 177, Spring 2017 (Prof. Tanedo)  \n",
    "Due: Friday, June 16    \n",
    "\n",
    "*Henry Casarez III*"
   ]
  },
  {
   "cell_type": "markdown",
   "metadata": {},
   "source": [
    "# Problem 0\n",
    "\n",
    "Please be sure to fill out:\n",
    "1. The course survey (e-mailed directly to you; e-mail Prof. Tanedo if you have not received this!)\n",
    "2. iEval course evaluation (http://ieval.ucr.edu)\n",
    "3. Sign up for a \"final interview\": https://doodle.com/poll/xyb7dgcupq9gwaqm"
   ]
  },
  {
   "cell_type": "markdown",
   "metadata": {},
   "source": [
    "# Problem 1"
   ]
  },
  {
   "cell_type": "markdown",
   "metadata": {
    "collapsed": true
   },
   "source": [
    "Code the Ising model to study the phase transition at $T_c\\approx 2.27$ (in units where $J = k_B = 1$). Use the Metropolis algorithm for Markov Chain Monte Carlo, as we set up in Lecture 18: https://github.com/Physics177-2017/Lec18-Ising-Model/blob/master/Lec18-IsingModel.ipynb\n",
    "\n",
    "**Make the following plots:**\n",
    "1. Magnetization as a function of temperature\n",
    "2. Energy as a function of temperature\n",
    "\n",
    "You may define magnetization as the total spin of the system (sum of the spins of each node). You may define the energy as the sum of $\\Delta E_i$ for each spin $i$. Recall that \n",
    "\n",
    "$$\\Delta E_i = -\\sum_{j} s_is_j$$\n",
    "\n",
    "(Note: actually, you should define $E = \\sum_i \\Delta E_i/4$, but we don't care about the overall pre-factors, we just want to see the qualitative shapes of the plots.)\n",
    "\n",
    "**Guidelines**\n",
    "You should be able to get reasonable results for:\n",
    "* A $20\\times 20$ array.\n",
    "* Sampling 1000 temperature points between $T=1$ and $T=4$\n",
    "* Allowing 2000 Monte Carlo steps to draw a sample.\n",
    "\n",
    "*Pro-tip:* One way to improve your calculations is to let your Monte Carlo \"equilibrate\" before recording data. In other words, your Markov Chain algorithm should be:\n",
    "\n",
    "1. Pick a random configuration\n",
    "2. Run for 2000 steps (without recording data)\n",
    "3. Perform your Markov Chain algorithm as usual, using the configuration at the end of step 2 as your initial configuration.\n",
    "\n",
    "\n",
    "Code this up on your own, you may use the code from Lecture 18 as a starting point. \n",
    "\n",
    "The *answers* are available in a notebook written by Rajesh Singh:\n",
    "http://rajeshrinet.github.io/blog/2014/ising-model/\n",
    "... you may use that notebook (in particular, the plots) as a guideline for what your code should produce. "
   ]
  },
  {
   "cell_type": "code",
   "execution_count": 21,
   "metadata": {
    "collapsed": false
   },
   "outputs": [],
   "source": [
    "import numpy as np\n",
    "import matplotlib.pyplot as plt\n",
    "import random as rand\n",
    "from random import *\n",
    "\"\"\"creation of code\"\"\"\n",
    "def takea_spin(the_grid, beta, i, j):\n",
    "    \n",
    "    spin = the_grid[i,j]\n",
    "    spin_flipped = -spin\n",
    "\n",
    "\n",
    "    total_spin =  the_grid[(i+1)%N,j] +  the_grid[(i-1)%N,j] +  the_grid[i,(j+1)%N] + the_grid[i,(j-1)%N]\n",
    "        \n",
    "    deltaE = ((total_spin*-spin_flipped)/4) -((total_spin*-spin)/4)\n",
    "        \n",
    "    if deltaE < 0:\n",
    "        return -spin\n",
    "    \n",
    "    else:\n",
    "        return spin\n",
    "        \n",
    "        \n",
    "def update_grid(the_grid, beta):\n",
    "    i = randint(0,N-1)\n",
    "    j = randint(0,N-1)\n",
    "    the_grid[i,j] = takea_spin(the_grid, beta, i, j)\n",
    "    return the_grid\n",
    "\n",
    "def magnetization(the_grid):\n",
    "    return np.sum(the_grid)\n",
    "\n",
    "def energy(the_grid):\n",
    "    E=0\n",
    "    for i in range(len(the_grid)):\n",
    "        for j in range(len(the_grid)):\n",
    "            spin=the_grid[i,j]\n",
    "            nb = the_grid[(i+1)%N, j] + the_grid[i,(j+1)%N] + the_grid[(i-1)%N, j] + the_grid[i,(j-1)%N]\n",
    "            E += -nb*spin\n",
    "    return E"
   ]
  },
  {
   "cell_type": "code",
   "execution_count": 26,
   "metadata": {
    "collapsed": false
   },
   "outputs": [
    {
     "data": {
      "image/png": "[encoded data removed]",
      "text/plain": [
       "<matplotlib.figure.Figure at 0x26f025778d0>"
      ]
     },
     "metadata": {},
     "output_type": "display_data"
    }
   ],
   "source": [
    "\"\"\"Plotting & Taking Values\"\"\"\n",
    "\n",
    "\"\"\"Temperature goes from 1 to 4\"\"\"\n",
    "\n",
    "%matplotlib inline\n",
    "T=np.linspace(1,4,1000)\n",
    "recorded_M=[]\n",
    "recorded_E=[]\n",
    "\n",
    "N=20\n",
    "grid=np.zeros((N,N))\n",
    "for i in range(N):\n",
    "    for j in range(N):\n",
    "        grid[i][j] = 2*randint(0,1) - 1 \n",
    "\n",
    "for l in range(2000):\n",
    "    update_grid(grid,1)\n",
    "for l in range(1000):\n",
    "    beta=1/T[l] \n",
    "    recorded_M.append(magnetization(grid))\n",
    "    recorded_E.append(energy(grid))\n",
    "    update_grid(grid,beta)\n",
    "    \n",
    "np.array(recorded_M)\n",
    "np.array(recorded_E)\n",
    "\n",
    "plt.plot(T,recorded_M)\n",
    "plt.xlabel('Temperature')\n",
    "plt.ylabel('Magnetization')\n",
    "\n",
    "plt.show()"
   ]
  },
  {
   "cell_type": "code",
   "execution_count": 27,
   "metadata": {
    "collapsed": false
   },
   "outputs": [
    {
     "data": {
      "text/plain": [
       "<matplotlib.text.Text at 0x26f027de470>"
      ]
     },
     "execution_count": 27,
     "metadata": {},
     "output_type": "execute_result"
    },
    {
     "data": {
      "image/png": "[encoded data removed]",
      "text/plain": [
       "<matplotlib.figure.Figure at 0x26f024d3128>"
      ]
     },
     "metadata": {},
     "output_type": "display_data"
    }
   ],
   "source": [
    "plt.plot(T,recorded_E)\n",
    "plt.xlabel('Temperature')\n",
    "plt.ylabel('Energy')"
   ]
  },
  {
   "cell_type": "markdown",
   "metadata": {},
   "source": [
    "### Wow my graphs are sooooooo pretty! Oh geez. Please grade with mercy Corey. It was finals week and unfortanetly I caught a very bad cold and could not focus or study well. pls. :'("
   ]
  },
  {
   "cell_type": "code",
   "execution_count": null,
   "metadata": {
    "collapsed": true
   },
   "outputs": [],
   "source": []
  }
 ],
 "metadata": {
  "kernelspec": {
   "display_name": "Python 3",
   "language": "python",
   "name": "python3"
  },
  "language_info": {
   "codemirror_mode": {
    "name": "ipython",
    "version": 3
   },
   "file_extension": ".py",
   "mimetype": "text/x-python",
   "name": "python",
   "nbconvert_exporter": "python",
   "pygments_lexer": "ipython3",
   "version": "3.6.0"
  }
 },
 "nbformat": 4,
 "nbformat_minor": 2
}
